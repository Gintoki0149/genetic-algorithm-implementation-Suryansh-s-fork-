{
 "cells": [
  {
   "cell_type": "code",
   "execution_count": 1,
   "metadata": {},
   "outputs": [],
   "source": [
    "#Imports from torch\n",
    "import torch.nn as nn\n",
    "import torch.nn.functional as F\n",
    "import torch.optim as optim\n",
    "#import torch summary\n",
    "from torchsummary import summary\n",
    "from torchvision import datasets, transforms\n",
    "import torch"
   ]
  },
  {
   "cell_type": "code",
   "execution_count": 2,
   "metadata": {},
   "outputs": [
    {
     "name": "stdout",
     "output_type": "stream",
     "text": [
      "Files already downloaded and verified\n",
      "Files already downloaded and verified\n"
     ]
    }
   ],
   "source": [
    "#download dataset cifar10\n",
    "trainset = datasets.CIFAR10(root='./data', train=True, download=True, transform=transforms.ToTensor())\n",
    "kwargs = {'batch_size': 64, 'shuffle': True, 'num_workers': 2, 'pin_memory': True}\n",
    "train_loader = torch.utils.data.DataLoader(trainset, **kwargs)\n",
    "testset = datasets.CIFAR10(root='./data', train=False, download=True, transform=transforms.ToTensor())\n",
    "test_loader = torch.utils.data.DataLoader(testset, **kwargs)"
   ]
  },
  {
   "cell_type": "code",
   "execution_count": 3,
   "metadata": {},
   "outputs": [
    {
     "name": "stderr",
     "output_type": "stream",
     "text": [
      "epoch: 0 loss=2.322748899459839 batch_id=781: 100%|██████████| 782/782 [00:25<00:00, 30.33it/s] \n",
      "epoch: 1 loss=2.2898576259613037 batch_id=781: 100%|██████████| 782/782 [00:25<00:00, 30.71it/s]\n",
      "epoch: 2 loss=2.327531099319458 batch_id=781: 100%|██████████| 782/782 [00:25<00:00, 30.69it/s] \n",
      "epoch: 3 loss=2.2935702800750732 batch_id=781: 100%|██████████| 782/782 [00:25<00:00, 30.79it/s]\n",
      "epoch: 4 loss=2.3010432720184326 batch_id=781: 100%|██████████| 782/782 [00:25<00:00, 30.78it/s]\n"
     ]
    },
    {
     "name": "stdout",
     "output_type": "stream",
     "text": [
      "This is the accuracy:  10.86 %\n"
     ]
    }
   ],
   "source": [
    "import torch.nn as nn\n",
    "import torch\n",
    "from tqdm import tqdm\n",
    "class Chromosome:\n",
    "    def __init__(self,phase:int,prev_best,genes:dict,train_loader,test_loader):\n",
    "        self.phase = phase\n",
    "        self.prev_best = prev_best\n",
    "        self.device = 'cuda'\n",
    "        self.genes = genes\n",
    "        self.out_dimensions = prev_best.out_dimensions if phase!=0 else 32\n",
    "        self.model:nn.Module = self.build_model()\n",
    "        self.fitness = self.fitness_function(train_loader,test_loader)\n",
    "\n",
    "    def build_model(self)->nn.Module:\n",
    "        if(self.prev_best!=None):\n",
    "            prev_best_model:nn.Module = self.prev_best.model\n",
    "        new_model_modules = []\n",
    "        if(self.phase!=0):\n",
    "            layer_a = nn.Conv2d(self.prev_best.genes['out_channels_b'] if self.prev_best.genes['include_b'] else self.prev_best.genes['out_channels_a'],self.genes['out_channels_a'],self.genes['k_size_a'])\n",
    "        else:\n",
    "            layer_a = nn.Conv2d(3,self.genes['out_channels_a'],self.genes['k_size_a'])\n",
    "        self.out_dimensions = (self.out_dimensions-self.genes['k_size_a']+1)\n",
    "        new_model_modules.append(layer_a)\n",
    "        if(self.genes['activation_type_a']=='relu'):\n",
    "            new_model_modules.append(nn.ReLU())\n",
    "        else:\n",
    "            new_model_modules.append(nn.Tanh())\n",
    "        if(self.genes['include_pool_a']):\n",
    "            if(self.genes['pool_type_a']=='max_pooling'):\n",
    "                new_model_modules.append(nn.MaxPool2d(2,2))\n",
    "                self.out_dimensions = self.out_dimensions//2\n",
    "            elif(self.genes['pool_type_a']=='avg_pooling'):\n",
    "                new_model_modules.append(nn.AvgPool2d(2,2))\n",
    "                self.out_dimensions = self.out_dimensions//2\n",
    "            else:\n",
    "                raise Exception('Invalid pool type (a layer)')\n",
    "        \n",
    "        if(self.genes['include_BN_a']):\n",
    "            new_model_modules.append(nn.BatchNorm2d(self.genes['out_channels_a']))\n",
    "        \n",
    "        if(self.genes['include_b'] or self.phase==0):\n",
    "            layer_b = nn.Conv2d(self.genes['out_channels_a'],self.genes['out_channels_b'],self.genes['k_size_b'])\n",
    "            self.out_dimensions = (self.out_dimensions-self.genes['k_size_b']+1)\n",
    "            new_model_modules.append(layer_b)\n",
    "            if(self.genes['activation_type_b']=='relu'):\n",
    "                new_model_modules.append(nn.ReLU())\n",
    "            else:\n",
    "                new_model_modules.append(nn.Tanh())\n",
    "            \n",
    "            if(self.genes['include_pool_b']):\n",
    "                if(self.genes['pool_type_b']=='max_pooling'):\n",
    "                    new_model_modules.append(nn.MaxPool2d(2,2))\n",
    "                    self.out_dimensions = self.out_dimensions//2\n",
    "                elif(self.genes['pool_type_b']=='avg_pooling'):\n",
    "                    new_model_modules.append(nn.AvgPool2d(2,2))\n",
    "                    self.out_dimensions = self.out_dimensions//2\n",
    "                else:\n",
    "                    raise Exception('Invalid pool type (b layer)')\n",
    "                \n",
    "            if(self.genes['include_BN_b']):\n",
    "                new_model_modules.append(nn.BatchNorm2d(self.genes['out_channels_b']))\n",
    "        if(self.phase!=0):\n",
    "            new_model = nn.Sequential(prev_best_model,*new_model_modules)\n",
    "        else:\n",
    "            new_model = nn.Sequential(*new_model_modules)\n",
    "        return new_model            \n",
    "\n",
    "    def fitness_function(self,train_loader,test_loader)->float:\n",
    "        self.model = self.model.to(self.device)\n",
    "        num_epochs = 5\n",
    "        criterion = nn.CrossEntropyLoss()\n",
    "        optimizer = optim.Adam(self.model.parameters(), lr=0.001)\n",
    "        for epoch in range(num_epochs):\n",
    "            pbar = tqdm(train_loader)      \n",
    "            self.model.train()\n",
    "            for batch_idx, (data, target) in enumerate(pbar):\n",
    "                data, target = data.to(self.device), target.to(self.device)\n",
    "                optimizer.zero_grad()\n",
    "                output = self.forward(data)\n",
    "                loss = criterion(output, target)\n",
    "                loss.backward()\n",
    "                optimizer.step()\n",
    "                pbar.set_description(desc= f'epoch: {epoch} loss={loss.item()} batch_id={batch_idx}')\n",
    "        #Test on validation data\n",
    "        self.model.eval()\n",
    "        correct = 0\n",
    "        total = 0\n",
    "        with torch.no_grad():\n",
    "            for data in test_loader:\n",
    "                images, labels = data\n",
    "                images, labels = images.to(self.device), labels.to(self.device)\n",
    "                outputs = self.forward(images)\n",
    "                _, predicted = torch.max(outputs.data, 1)\n",
    "                total += labels.size(0)\n",
    "                correct += (predicted == labels).sum().item()\n",
    "        print(\"This is the accuracy: \",correct/total*100,\"%\")\n",
    "        return correct/total\n",
    "        \n",
    "    def forward(self,x:torch.Tensor):\n",
    "        if(x.shape[0]==1):\n",
    "            return self._forward_one_example(x)\n",
    "        else:\n",
    "            outputs = torch.zeros(x.shape[0],10,device = self.device)\n",
    "            for i in range(x.shape[0]):\n",
    "                outputs[i] = self._forward_one_example(x[i].unsqueeze(0))\n",
    "            return outputs\n",
    "\n",
    "    def _forward_one_example(self,x:torch.Tensor):\n",
    "        x = self.model(x)\n",
    "        if(self.genes['skip_connection']):\n",
    "            if(self.phase==0):\n",
    "                y = nn.Conv2d(3,self.genes['out_channels_b'],1)(x)\n",
    "            else:\n",
    "                y = nn.Conv2d(self.prev_best.genes['out_channels_b'] if self.prev_best.genes['include_b'] else self.prev_best.genes['out_channels_a'],self.genes['out_channels_b'] if self.genes['include_b'] else self.genes['out_channels_a'],1)(x)\n",
    "            x = x+y\n",
    "        x = x.flatten()\n",
    "        x = nn.Linear(x.shape[0],10,device=self.device)(x)\n",
    "        return x\n",
    "\n",
    "random_genes = {\n",
    "    'k_size_a': 3,\n",
    "    'k_size_b': 3,\n",
    "    'out_channels_a': 16,\n",
    "    'out_channels_b': 16,\n",
    "    'include_pool_a': True,\n",
    "    'include_pool_b': False,\n",
    "    'pool_type_a': 'max_pooling',\n",
    "    'pool_type_b': 'max_pooling',\n",
    "    'activation_type_a': 'relu',\n",
    "    'activation_type_b': 'relu',\n",
    "    'include_b': False,\n",
    "    'include_BN_a': True,\n",
    "    'include_BN_b': True,\n",
    "    'skip_connection': False,\n",
    "}\n",
    "device = 'cpu'\n",
    "chromosome = Chromosome(0,None,random_genes,train_loader,test_loader)\n"
   ]
  },
  {
   "cell_type": "code",
   "execution_count": null,
   "metadata": {},
   "outputs": [],
   "source": [
    "class FinalModel(nn.Module):\n",
    "    def __init__(self, chromosome):\n",
    "        super().__init__()\n",
    "        self.block = chromosome.model\n",
    "        if chromosome.phase == 0:\n",
    "            in_channels = 3\n",
    "        else:\n",
    "            if(chromosome.prev_best.genes['include_b']):\n",
    "                in_channels = chromosome.prev_best.genes['out_channels_b']\n",
    "            else:\n",
    "                in_channels = chromosome.prev_best.genes['out_channels_a']\n",
    "            if(chromosome.genes['include_b']):\n",
    "                out_channels = chromosome.genes['out_channels_b']\n",
    "            else:\n",
    "                out_channels = chromosome.genes['out_channels_a']\n",
    "\n",
    "        self.skip = nn.Conv2d(in_channels, out_channels, 1)\n",
    "\n",
    "        self.flatten = nn.Flatten()\n",
    "        self.fc = nn.Linear(out_channels*chromosome.out_dimensions**2)\n",
    "\n",
    "    def forward(self, x, chromosome):\n",
    "        x=self.block(x)\n",
    "        if chromosome.genes['skip_connection']:\n",
    "            y = self.skip(x)\n",
    "            x = x + y\n",
    "        x = self.flatten(self.fc(x))\n",
    "        return x\n"
   ]
  },
  {
   "cell_type": "code",
   "execution_count": 8,
   "metadata": {},
   "outputs": [],
   "source": [
    "model = nn.Sequential(\n",
    "    nn.Conv2d(3, 16, 3),\n",
    "    nn.ReLU(),\n",
    "    nn.MaxPool2d(2,2),\n",
    "    nn.BatchNorm2d(16),\n",
    "    nn.Conv2d(16, 16, 3),\n",
    "    nn.ReLU(),\n",
    "    nn.BatchNorm2d(16),\n",
    "    nn.Flatten(),\n",
    "    nn.Linear(2704, 10)\n",
    ")\n",
    "\n"
   ]
  },
  {
   "cell_type": "code",
   "execution_count": 9,
   "metadata": {},
   "outputs": [
    {
     "name": "stderr",
     "output_type": "stream",
     "text": [
      "epoch: 0 loss=-0.6540274620056152 batch_id=781: 100%|██████████| 782/782 [00:09<00:00, 78.54it/s] \n",
      "epoch: 1 loss=-0.7881017923355103 batch_id=781: 100%|██████████| 782/782 [00:10<00:00, 77.63it/s] \n",
      "epoch: 2 loss=-0.6428288221359253 batch_id=781: 100%|██████████| 782/782 [00:10<00:00, 77.55it/s] \n",
      "epoch: 3 loss=-0.6444394588470459 batch_id=781: 100%|██████████| 782/782 [00:10<00:00, 77.26it/s] \n",
      "epoch: 4 loss=-0.6307553648948669 batch_id=781: 100%|██████████| 782/782 [00:10<00:00, 77.42it/s] \n"
     ]
    }
   ],
   "source": [
    "num_epochs = 5\n",
    "criterion = F.nll_loss\n",
    "optimizer = optim.Adam(model.parameters(), lr=0.001)\n",
    "for epoch in range(num_epochs):\n",
    "    pbar = tqdm(train_loader)      \n",
    "    model.train()\n",
    "    for batch_idx, (data, target) in enumerate(pbar):\n",
    "        optimizer.zero_grad()\n",
    "        output = model(data)\n",
    "        output = torch.softmax(output, dim = 1)\n",
    "        loss = criterion(output, target)\n",
    "        loss.backward()\n",
    "        optimizer.step()\n",
    "        pbar.set_description(desc= f'epoch: {epoch} loss={loss.item()} batch_id={batch_idx}')"
   ]
  },
  {
   "cell_type": "code",
   "execution_count": 10,
   "metadata": {},
   "outputs": [
    {
     "name": "stdout",
     "output_type": "stream",
     "text": [
      "This is the accuracy:  58.76 %\n"
     ]
    }
   ],
   "source": [
    "model.eval()\n",
    "correct = 0\n",
    "total = 0\n",
    "with torch.no_grad():\n",
    "    for data in test_loader:\n",
    "        images, labels = data\n",
    "        outputs = model(images)\n",
    "        _, predicted = torch.max(outputs.data, 1)\n",
    "        total += labels.size(0)\n",
    "        correct += (predicted == labels).sum().item()\n",
    "print(\"This is the accuracy: \",correct/total*100,\"%\")"
   ]
  },
  {
   "cell_type": "code",
   "execution_count": null,
   "metadata": {},
   "outputs": [],
   "source": []
  }
 ],
 "metadata": {
  "kernelspec": {
   "display_name": "dl_project",
   "language": "python",
   "name": "python3"
  },
  "language_info": {
   "codemirror_mode": {
    "name": "ipython",
    "version": 3
   },
   "file_extension": ".py",
   "mimetype": "text/x-python",
   "name": "python",
   "nbconvert_exporter": "python",
   "pygments_lexer": "ipython3",
   "version": "3.10.12"
  }
 },
 "nbformat": 4,
 "nbformat_minor": 2
}
