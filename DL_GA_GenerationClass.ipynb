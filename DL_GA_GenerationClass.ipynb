{
  "cells": [
    {
      "cell_type": "code",
      "execution_count": null,
      "metadata": {
        "id": "N8A1cQwWfY-o"
      },
      "outputs": [],
      "source": [
        "import random"
      ]
    },
    {
      "cell_type": "code",
      "execution_count": 1,
      "metadata": {},
      "outputs": [],
      "source": [
        "SEARCH_SPACE = {\n",
        "    'k_size_a': [1, 3, 5, 7],\n",
        "    'k_size_b': [1, 3, 5, 7],\n",
        "    'out_channels_a': [8, 16, 32, 64],\n",
        "    'out_channels_b': [8, 16, 32, 64],\n",
        "    'include_pool_a': [True, False],\n",
        "    'include_pool_b': [True, False],\n",
        "    'pool_type_a': ['max_pooling','avg_pooling'],\n",
        "    'pool_type_b': ['max_pooling','avg_pooling'],\n",
        "    'activation_type_a': ['relu', 'tanh', 'elu', 'selu'],\n",
        "    'activation_type_b': ['relu', 'tanh', 'elu', 'selu'],\n",
        "    'include_b': [True, False],\n",
        "    'include_BN_a': [True, False],\n",
        "    'include_BN_b': [True, False],\n",
        "    'skip_connection': [True, False],\n",
        "}"
      ]
    },
    {
      "cell_type": "code",
      "execution_count": null,
      "metadata": {
        "colab": {
          "base_uri": "https://localhost:8080/",
          "height": 145
        },
        "id": "DlGdbBnmffMW",
        "outputId": "a215131f-cf1e-4764-c924-5be1db7e508d"
      },
      "outputs": [
        {
          "ename": "SyntaxError",
          "evalue": "ignored",
          "output_type": "error",
          "traceback": [
            "\u001b[0;36m  File \u001b[0;32m\"<ipython-input-7-ee1e60b3cc72>\"\u001b[0;36m, line \u001b[0;32m35\u001b[0m\n\u001b[0;31m    for i in indices_to_mutate:\u001b[0m\n\u001b[0m                               ^\u001b[0m\n\u001b[0;31mSyntaxError\u001b[0m\u001b[0;31m:\u001b[0m incomplete input\n"
          ]
        }
      ],
      "source": [
        "class Generation():\n",
        "  def __init__(self,\n",
        "               fit_survival_rate: float,\n",
        "               unfit_survival_rate: float,\n",
        "               mutation_rate: float,\n",
        "               pop_size: int,\n",
        "               phase: int,\n",
        "               search_space: dict,\n",
        "               prev_best: Chromosome):\n",
        "    self.fit_survival_rate = fit_survival_rate\n",
        "    self.unfit_survival_rate = unfit_survival_rate\n",
        "    self.mutation_rate = mutation_rate\n",
        "    self.pop_size = pop_size\n",
        "    self.pop = []\n",
        "\n",
        "    for i in range(pop_size):\n",
        "      self.pop.append(Chromosome(phase = 0,\n",
        "                            prev_best = prev_best,\n",
        "                            genes = self.make_gene(search_space)))\n",
        "      \n",
        "  def make_gene(search_space: dict):\n",
        "    gene = {}\n",
        "    \n",
        "    gene['k_size_a'] = random.choice(search_space['k_size_a'])\n",
        "    gene['k_size_b'] = random.choice(search_space['k_size_b'])\n",
        "    gene['out_channels_a'] = random.choice(search_space['out_channels_a'])\n",
        "    gene['out_channels_b'] = random.choice(search_space['out_channels_b'])\n",
        "    gene['include_pool_a'] = random.choice(search_space['include_pool_a'])\n",
        "    gene['include_pool_b'] = random.choice(search_space['include_pool_b'])\n",
        "    gene['pool_type_a'] = random.choice(search_space['pool_type_a'])\n",
        "    gene['pool_type_b'] = random.choice(search_space['pool_type_b'])\n",
        "    gene['activation_type_a'] = random.choice(search_space['activation_type_a'])\n",
        "    gene['activation_type_b'] = random.choice(search_space['activation_type_b'])\n",
        "    gene['include_b'] = random.choice(search_space['include_b'])\n",
        "    gene['include_bn_a'] = random.choice(search_space['include_bn_a'])\n",
        "    gene['include_bn_b'] = random.choice(search_space['include_bn_b'])\n",
        "    gene['skip_connection'] = random.choice(search_space['skip_connection'])\n",
        "\n",
        "    return gene\n",
        "\n",
        "  def sort_pop(self, train_loader, test_loader):\n",
        "    sorted_pop = sorted(self.pop,\n",
        "                        key = lambda x: x.fitness_function(train_loader, test_loader))\n",
        "    self.pop = sorted_pop\n",
        "\n",
        "  def generate(self):\n",
        "    num_fit_selected = int(self.fit_survival_rate * self.pop_size)\n",
        "    num_unfit_selected = int(self.unfit_survival_rate * self.pop_size)\n",
        "    num_mutate = int(self.mutation_rate * self.pop_size)\n",
        "\n",
        "    new_pop = []\n",
        "\n",
        "    for i in range(num_fit_selected):\n",
        "      new_pop.append(self.pop[i])\n",
        "\n",
        "    for i in range(num_unfit_selected):\n",
        "      new_pop.append(self.pop[self.pop_size - i - 1])\n",
        "\n",
        "    if(num_mutate > len(new_pop)):\n",
        "      indices_to_mutate = random.sample(range(0, len(new_pop)), num_mutate)\n",
        "    else:\n",
        "      indices_to_mutate = random.sample(range(0, len(new_pop)), len(new_pop))\n",
        "\n",
        "    for i in indices_to_mutate:\n",
        "      new_pop[i].mutate()\n",
        "\n",
        "    parents_list = []\n",
        "    for i in range(self.pop_size):\n",
        "      parents = random.sample(range(0, len(new_pop)), 2)\n",
        "      parents_list.append(tuple(parents))\n",
        "\n",
        "    for p1, p2 in parents_list:\n",
        "      new_pop.append(new_pop[p1].crossover(new_pop[p2]))\n"
      ]
    }
  ],
  "metadata": {
    "colab": {
      "provenance": []
    },
    "kernelspec": {
      "display_name": "Python 3",
      "name": "python3"
    },
    "language_info": {
      "codemirror_mode": {
        "name": "ipython",
        "version": 3
      },
      "file_extension": ".py",
      "mimetype": "text/x-python",
      "name": "python",
      "nbconvert_exporter": "python",
      "pygments_lexer": "ipython3",
      "version": "3.9.6"
    }
  },
  "nbformat": 4,
  "nbformat_minor": 0
}
